{
 "cells": [
  {
   "cell_type": "code",
   "execution_count": 2,
   "metadata": {},
   "outputs": [
    {
     "name": "stdout",
     "output_type": "stream",
     "text": [
      "Your main objective is to continuously design, evaluate and improve an end-to-end pipeline for a quantitative trading firm. Your quantifiable goal is to make as much profit as possible, by all means necessary, design a multi-agent pipeline if you have to.\n",
      "\n",
      "You have full administrator access to a python file called 'logic.py'. You are allowed to run any code you desire.\n",
      "\n",
      "You have full administrator access to a txt file called 'notes.txt' to take notes. Act as if you are a human running the job, use the file to plan and record which ideas have worked and which have not. You can erase the notes you do not need anymore.\n",
      "\n",
      "You are given the full freedom to reason, plan, breaking down your task into simple steps in any way, shape or form. You will be run in iterations, where for each iteration, you make small improvements to 'logic.py', or write notes in 'notes.txt'. Hence, you may inform yourself in the future what you wish for youself to improve in the future.\n",
      "\n",
      "Non-negotiable conditions:\n",
      "-Be absolutely critical, only change what you deem is necessary for improvement. Focus on efficiency.\n",
      "-Be flexible in trial-and-error. Keep trying new things, do not fall back onto same ideas. Only fall back when you critically believe you can improve on the old idea further.\n"
     ]
    }
   ],
   "source": [
    "with open(\"main_prompt.md\",\"r\", encoding=\"utf-8\") as f:\n",
    "    main_prompt = f.read()\n",
    "    \n",
    "print(main_prompt)"
   ]
  },
  {
   "cell_type": "code",
   "execution_count": 3,
   "metadata": {},
   "outputs": [
    {
     "ename": "ModuleNotFoundError",
     "evalue": "No module named 'unsloth'",
     "output_type": "error",
     "traceback": [
      "\u001b[1;31m---------------------------------------------------------------------------\u001b[0m",
      "\u001b[1;31mModuleNotFoundError\u001b[0m                       Traceback (most recent call last)",
      "Cell \u001b[1;32mIn[3], line 1\u001b[0m\n\u001b[1;32m----> 1\u001b[0m \u001b[38;5;28;01mimport\u001b[39;00m\u001b[38;5;250m \u001b[39m\u001b[38;5;21;01munsloth\u001b[39;00m\n",
      "\u001b[1;31mModuleNotFoundError\u001b[0m: No module named 'unsloth'"
     ]
    }
   ],
   "source": [
    "import unsloth"
   ]
  },
  {
   "cell_type": "code",
   "execution_count": null,
   "metadata": {},
   "outputs": [],
   "source": []
  },
  {
   "cell_type": "code",
   "execution_count": null,
   "metadata": {},
   "outputs": [],
   "source": [
    "def iteration(main_prompt,):\n",
    "    #"
   ]
  }
 ],
 "metadata": {
  "kernelspec": {
   "display_name": "Python 3",
   "language": "python",
   "name": "python3"
  },
  "language_info": {
   "codemirror_mode": {
    "name": "ipython",
    "version": 3
   },
   "file_extension": ".py",
   "mimetype": "text/x-python",
   "name": "python",
   "nbconvert_exporter": "python",
   "pygments_lexer": "ipython3",
   "version": "3.13.1"
  }
 },
 "nbformat": 4,
 "nbformat_minor": 2
}
